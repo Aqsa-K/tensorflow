{
  "nbformat": 4,
  "nbformat_minor": 0,
  "metadata": {
    "colab": {
      "name": "MNIST-TF.ipynb",
      "version": "0.3.2",
      "provenance": [],
      "collapsed_sections": []
    },
    "kernelspec": {
      "name": "python3",
      "display_name": "Python 3"
    }
  },
  "cells": [
    {
      "metadata": {
        "id": "qAG6SbYNzvFV",
        "colab_type": "text"
      },
      "cell_type": "markdown",
      "source": [
        "![alt text](https://d20vrrgs8k4bvw.cloudfront.net/images/courses/logos/logo-color-tensorflow.png)"
      ]
    },
    {
      "metadata": {
        "id": "4KLTlsZGPRW5",
        "colab_type": "code",
        "colab": {}
      },
      "cell_type": "code",
      "source": [
        "import tensorflow as tf"
      ],
      "execution_count": 0,
      "outputs": []
    },
    {
      "metadata": {
        "id": "M5MNjjhHW0UV",
        "colab_type": "text"
      },
      "cell_type": "markdown",
      "source": [
        "# Classifying Handwritten Digits"
      ]
    },
    {
      "metadata": {
        "id": "xdrvvTHg76rB",
        "colab_type": "text"
      },
      "cell_type": "markdown",
      "source": [
        "### Hello World"
      ]
    },
    {
      "metadata": {
        "id": "9zH4uiFH876f",
        "colab_type": "text"
      },
      "cell_type": "markdown",
      "source": [
        "Simple \"Hello World\" program\n",
        "\n",
        "\n",
        "*   Create a constant\n",
        "*   The constant is added to the graph\n",
        "*   Create session\n",
        "*   Run Session to get value\n",
        "\n",
        "\n",
        "\n",
        "\n"
      ]
    },
    {
      "metadata": {
        "id": "bJytg2JP7-0q",
        "colab_type": "code",
        "outputId": "9a91e498-4892-4916-99d0-3c5c41064d1c",
        "colab": {
          "base_uri": "https://localhost:8080/",
          "height": 34
        }
      },
      "cell_type": "code",
      "source": [
        "hw = tf.constant(\"Hello world\")                       #create constant\n",
        "sess = tf.Session()                                   #create session\n",
        "output = sess.run(hw)                                 #run the session\n",
        "print(output)                                         #print output"
      ],
      "execution_count": 2,
      "outputs": [
        {
          "output_type": "stream",
          "text": [
            "b'Hello world'\n"
          ],
          "name": "stdout"
        }
      ]
    },
    {
      "metadata": {
        "id": "OU3e8PfX-JQk",
        "colab_type": "text"
      },
      "cell_type": "markdown",
      "source": [
        "### Constants/Placeholders"
      ]
    },
    {
      "metadata": {
        "id": "HwG34ale-8qY",
        "colab_type": "text"
      },
      "cell_type": "markdown",
      "source": [
        "Basic constant operaton\n",
        "\n",
        "\n",
        "*   Define constant value  for 'a'\n",
        "*   Define constant value for 'b'\n",
        "*   Create session\n",
        "*   Define addition operation\n",
        "*   Run session\n",
        "\n"
      ]
    },
    {
      "metadata": {
        "id": "PR-5Epox-R7M",
        "colab_type": "code",
        "outputId": "89a4f0e4-875b-492a-ad4d-742a6ab1ab2a",
        "colab": {
          "base_uri": "https://localhost:8080/",
          "height": 34
        }
      },
      "cell_type": "code",
      "source": [
        "a = tf.constant(2, tf.int32)\n",
        "b= tf.constant(5, tf.int32)\n",
        "c = tf.add(a,b)\n",
        "\n",
        "with tf.Session() as sess:\n",
        "  result = sess.run(c)\n",
        "  print(result)"
      ],
      "execution_count": 3,
      "outputs": [
        {
          "output_type": "stream",
          "text": [
            "7\n"
          ],
          "name": "stdout"
        }
      ]
    },
    {
      "metadata": {
        "id": "0cQyNPd__p4N",
        "colab_type": "text"
      },
      "cell_type": "markdown",
      "source": [
        "![alt text](https://docs.google.com/uc?export=download&id=1t8xTvN31dkTBQn8uv-j6NySfSoPNQ5r-)"
      ]
    },
    {
      "metadata": {
        "id": "vDtIyngWDzNp",
        "colab_type": "text"
      },
      "cell_type": "markdown",
      "source": [
        "Basic placeholders\n",
        "\n",
        "\n",
        "*   Define placeholder  'a'\n",
        "*   Define placeholder 'b'\n",
        "*   Create session\n",
        "*   Define addition operation\n",
        "*   Run session\n",
        "\n"
      ]
    },
    {
      "metadata": {
        "id": "8t1VJamwEMVT",
        "colab_type": "code",
        "outputId": "de5a9e74-9807-466c-f529-feca92ccedab",
        "colab": {
          "base_uri": "https://localhost:8080/",
          "height": 85
        }
      },
      "cell_type": "code",
      "source": [
        "a = tf.placeholder(tf.int32)\n",
        "b = tf.placeholder(tf.int32)\n",
        "c = tf.add(a,b)\n",
        "d = tf.multiply(a,b)\n",
        "e = tf.add(c,d)\n",
        "\n",
        "with tf.Session() as sess:\n",
        "  addition_result = sess.run(c, feed_dict={a:2, b:5})\n",
        "  print(\"Addition: \", addition_result)\n",
        "  multiplication_result = sess.run(d, feed_dict={a:2, b:5})\n",
        "  print(\"Multiplication: \", multiplication_result)\n",
        "  \n",
        "  print(\"Running together: \", sess.run([c,d], feed_dict={a:2, b:5}))\n",
        "  print(\"c+d: \", sess.run(e, feed_dict={a:2,b:5}))"
      ],
      "execution_count": 5,
      "outputs": [
        {
          "output_type": "stream",
          "text": [
            "Addition:  7\n",
            "Multiplication:  10\n",
            "Running together:  [7, 10]\n",
            "c+d:  17\n"
          ],
          "name": "stdout"
        }
      ]
    },
    {
      "metadata": {
        "id": "LHdnI7DkFEtu",
        "colab_type": "text"
      },
      "cell_type": "markdown",
      "source": [
        "![alt text](https://docs.google.com/uc?export=download&id=1Vzc35K67OM-2oMduU2jR5Mj8k4HenBcA)"
      ]
    },
    {
      "metadata": {
        "id": "v4Zh8jPPezQo",
        "colab_type": "text"
      },
      "cell_type": "markdown",
      "source": [
        "**Running 'c' and 'd' together: **"
      ]
    },
    {
      "metadata": {
        "id": "cv-3WrmpIqwK",
        "colab_type": "text"
      },
      "cell_type": "markdown",
      "source": [
        "![alt text](https://docs.google.com/uc?export=download&id=1Ix-iXtGsfRrOKxtlup0hBPTwt4SkXoJq)"
      ]
    },
    {
      "metadata": {
        "id": "SjczK_tUe790",
        "colab_type": "text"
      },
      "cell_type": "markdown",
      "source": [
        "**Running 'c+d' :**"
      ]
    },
    {
      "metadata": {
        "id": "gqDfkx4KI9Rd",
        "colab_type": "text"
      },
      "cell_type": "markdown",
      "source": [
        "![alt text](https://docs.google.com/uc?export=download&id=1BF-XnOYXhV4Sf0yujj-NgM9eeJkKBkUe)"
      ]
    },
    {
      "metadata": {
        "id": "HlGM65apQFvS",
        "colab_type": "text"
      },
      "cell_type": "markdown",
      "source": [
        "## Other important operations"
      ]
    },
    {
      "metadata": {
        "id": "Ziu-EDRsQNTI",
        "colab_type": "text"
      },
      "cell_type": "markdown",
      "source": [
        "**Argmax**"
      ]
    },
    {
      "metadata": {
        "id": "Lnsp-4tmyZZP",
        "colab_type": "text"
      },
      "cell_type": "markdown",
      "source": [
        "argmax: returns the index of the highest value along the given axis"
      ]
    },
    {
      "metadata": {
        "id": "agLpYrClQS5R",
        "colab_type": "code",
        "outputId": "e18f2870-56ba-4793-8df7-50b154ecd947",
        "colab": {
          "base_uri": "https://localhost:8080/",
          "height": 34
        }
      },
      "cell_type": "code",
      "source": [
        "a = tf.constant([[0.5, 1.5, 0.1, 2.3]])\n",
        "b = tf.argmax(a, axis=1)\n",
        "\n",
        "with tf.Session() as sess:\n",
        "  result = sess.run(b)\n",
        "  print(\"Result: \", result)"
      ],
      "execution_count": 6,
      "outputs": [
        {
          "output_type": "stream",
          "text": [
            "Result:  [3]\n"
          ],
          "name": "stdout"
        }
      ]
    },
    {
      "metadata": {
        "id": "iNpxCbO1QWJ7",
        "colab_type": "text"
      },
      "cell_type": "markdown",
      "source": [
        "**Softmax**"
      ]
    },
    {
      "metadata": {
        "id": "bxX9K8FIylfU",
        "colab_type": "text"
      },
      "cell_type": "markdown",
      "source": [
        "softmax: converts scores to probabilities\n",
        "\n",
        "The result of softmax sums to 1"
      ]
    },
    {
      "metadata": {
        "id": "LU_tDmeNQYlb",
        "colab_type": "code",
        "outputId": "90584bb4-18da-4c8f-bdc5-05800dab50fd",
        "colab": {
          "base_uri": "https://localhost:8080/",
          "height": 85
        }
      },
      "cell_type": "code",
      "source": [
        "y_hat = tf.constant([[0.5, 1.5, 0.1],[2.2, 1.3, 1.7]])\n",
        "y_hat_softmax = tf.nn.softmax(y_hat)\n",
        "\n",
        "\n",
        "with tf.Session() as sess:\n",
        "  print(\"y_hat: \", sess.run(y_hat))\n",
        "  print(\"Softmax result: \", sess.run(y_hat_softmax))"
      ],
      "execution_count": 10,
      "outputs": [
        {
          "output_type": "stream",
          "text": [
            "y_hat:  [[0.5 1.5 0.1]\n",
            " [2.2 1.3 1.7]]\n",
            "Softmax result:  [[0.22786303 0.6193959  0.15274116]\n",
            " [0.49674627 0.20196195 0.30129185]]\n"
          ],
          "name": "stdout"
        }
      ]
    },
    {
      "metadata": {
        "id": "2QXK1NyNRxHl",
        "colab_type": "code",
        "outputId": "222bd59b-79d8-4e07-d407-aa368c9dbc4b",
        "colab": {
          "base_uri": "https://localhost:8080/",
          "height": 51
        }
      },
      "cell_type": "code",
      "source": [
        "y_true = tf.constant([[0.0, 1.0, 0.0],[0.0, 0.0, 1.0]])\n",
        "\n",
        "with tf.Session() as sess:\n",
        "  print(\"y_true: \", sess.run(y_true))"
      ],
      "execution_count": 9,
      "outputs": [
        {
          "output_type": "stream",
          "text": [
            "y_true:  [[0. 1. 0.]\n",
            " [0. 0. 1.]]\n"
          ],
          "name": "stdout"
        }
      ]
    },
    {
      "metadata": {
        "id": "FIqucSd8y23C",
        "colab_type": "text"
      },
      "cell_type": "markdown",
      "source": [
        "We can use cross entropy to calculate the error between y and y_hat.\n",
        "We'll use 'loss_per_instance_1' to indicate error for each of the output and we'll use 'total_loss_1' to indicate cummulative error for all values "
      ]
    },
    {
      "metadata": {
        "id": "GjJa2U6ORWy8",
        "colab_type": "code",
        "outputId": "0941c6fe-de75-487b-acfa-d6229b2624eb",
        "colab": {
          "base_uri": "https://localhost:8080/",
          "height": 34
        }
      },
      "cell_type": "code",
      "source": [
        "loss_per_instance_1 = -tf.reduce_sum(y_true * tf.log(y_hat_softmax), reduction_indices=[1])\n",
        "with tf.Session() as sess:\n",
        "  print(\"loss_per_instance: \", sess.run(loss_per_instance_1))\n"
      ],
      "execution_count": 12,
      "outputs": [
        {
          "output_type": "stream",
          "text": [
            "loss_per_instance:  [0.4790106 1.1996759]\n"
          ],
          "name": "stdout"
        }
      ]
    },
    {
      "metadata": {
        "id": "-k4epRgxzXlY",
        "colab_type": "text"
      },
      "cell_type": "markdown",
      "source": [
        "As you can see 'loss_per_instance_1' shows error for each corresponding pair of values separately.\n",
        "The corresponding pairs are as follows:\n",
        "\n",
        "\n",
        "```\n",
        "y[0]: [0. 1. 0.]  \n",
        "y_hat[0]: [0.5 1.5 0.1]\n",
        "softmax: [0.22786303 0.6193959  0.15274116]\n",
        "\n",
        "y[1] : [0. 0. 1.]\n",
        "y_hat[1]: [2.2 1.3 1.7]\n",
        "softmax: [0.49674627 0.20196195 0.30129185]\n",
        "```\n",
        "\n",
        "As you can see that for y[0] our corresponding prediction in y_hat[0] is correct (highest score on 2nd index) but for y[1] our corresponding prediction in y_hat[1] is not correct (highest score at 1st index whereas it should have been at 3rd index)\n",
        "\n",
        "if we analyze the results for  'loss_per_instance_1':  [0.4790106 1.1996759]\n",
        "We can see that the first error (between y[0] and y_hat[0] is low) and second error value(between y[1] and y_hat[1] is high)\n",
        "\n",
        "In 'total_loss_1' we are taking mean of the errors to get a single value for error. And this is the error that we try to reduce. \n"
      ]
    },
    {
      "metadata": {
        "id": "wBwOPLmeSpag",
        "colab_type": "code",
        "outputId": "ee52516b-0c10-4625-aa80-a8c004ddc4e2",
        "colab": {
          "base_uri": "https://localhost:8080/",
          "height": 34
        }
      },
      "cell_type": "code",
      "source": [
        "total_loss_1 = tf.reduce_mean(-tf.reduce_sum(y_true * tf.log(y_hat_softmax), reduction_indices=[1]))\n",
        "with tf.Session() as sess:\n",
        "  print(\"total_loss: \", sess.run(total_loss_1))\n"
      ],
      "execution_count": 16,
      "outputs": [
        {
          "output_type": "stream",
          "text": [
            "total_loss:  0.83934325\n"
          ],
          "name": "stdout"
        }
      ]
    },
    {
      "metadata": {
        "id": "1pulVZx21fH_",
        "colab_type": "text"
      },
      "cell_type": "markdown",
      "source": [
        "We can do both 'softmax' and 'cross entropy' in one step instead of two steps, as follows:"
      ]
    },
    {
      "metadata": {
        "id": "aosWKyH-S_4F",
        "colab_type": "code",
        "outputId": "b1123665-4e53-423a-dcd5-4ec669608225",
        "colab": {
          "base_uri": "https://localhost:8080/",
          "height": 207
        }
      },
      "cell_type": "code",
      "source": [
        "loss_per_instance_2 = tf.nn.softmax_cross_entropy_with_logits(logits=y_hat, labels=y_true)\n",
        "\n",
        "total_loss_2 = tf.reduce_mean(tf.nn.softmax_cross_entropy_with_logits(logits=y_hat, labels=y_true))\n",
        "\n",
        "with tf.Session() as sess:\n",
        "  print(\"loss_per_instance: \", sess.run(loss_per_instance_1))\n",
        "  print(\"total_loss: \", sess.run(total_loss_2))"
      ],
      "execution_count": 17,
      "outputs": [
        {
          "output_type": "stream",
          "text": [
            "WARNING:tensorflow:From <ipython-input-17-82b8d379e064>:1: softmax_cross_entropy_with_logits (from tensorflow.python.ops.nn_ops) is deprecated and will be removed in a future version.\n",
            "Instructions for updating:\n",
            "\n",
            "Future major versions of TensorFlow will allow gradients to flow\n",
            "into the labels input on backprop by default.\n",
            "\n",
            "See `tf.nn.softmax_cross_entropy_with_logits_v2`.\n",
            "\n",
            "loss_per_instance:  [0.4790106 1.1996759]\n",
            "total_loss:  0.8393433\n"
          ],
          "name": "stdout"
        }
      ]
    },
    {
      "metadata": {
        "id": "KvEmrgktXHSm",
        "colab_type": "text"
      },
      "cell_type": "markdown",
      "source": [
        "## Logistic Regression"
      ]
    },
    {
      "metadata": {
        "id": "N3nzwmcJKU4t",
        "colab_type": "text"
      },
      "cell_type": "markdown",
      "source": [
        "![alt text](https://docs.google.com/uc?export=download&id=1rVrirHRf9aHUbcNpqwL8khhHREQ0pPJv)"
      ]
    },
    {
      "metadata": {
        "id": "qW6MTseYTNE0",
        "colab_type": "code",
        "outputId": "30c8eb75-afd8-4e69-cce5-10724087cd61",
        "colab": {
          "base_uri": "https://localhost:8080/",
          "height": 530
        }
      },
      "cell_type": "code",
      "source": [
        "# Import MNIST data\n",
        "from tensorflow.examples.tutorials.mnist import input_data\n",
        "mnist = input_data.read_data_sets(\"/tmp/data/\", one_hot=True)"
      ],
      "execution_count": 18,
      "outputs": [
        {
          "output_type": "stream",
          "text": [
            "WARNING:tensorflow:From <ipython-input-18-c3d55fec490c>:2: read_data_sets (from tensorflow.contrib.learn.python.learn.datasets.mnist) is deprecated and will be removed in a future version.\n",
            "Instructions for updating:\n",
            "Please use alternatives such as official/mnist/dataset.py from tensorflow/models.\n",
            "WARNING:tensorflow:From /usr/local/lib/python3.6/dist-packages/tensorflow/contrib/learn/python/learn/datasets/mnist.py:260: maybe_download (from tensorflow.contrib.learn.python.learn.datasets.base) is deprecated and will be removed in a future version.\n",
            "Instructions for updating:\n",
            "Please write your own downloading logic.\n",
            "WARNING:tensorflow:From /usr/local/lib/python3.6/dist-packages/tensorflow/contrib/learn/python/learn/datasets/base.py:252: _internal_retry.<locals>.wrap.<locals>.wrapped_fn (from tensorflow.contrib.learn.python.learn.datasets.base) is deprecated and will be removed in a future version.\n",
            "Instructions for updating:\n",
            "Please use urllib or similar directly.\n",
            "Successfully downloaded train-images-idx3-ubyte.gz 9912422 bytes.\n",
            "WARNING:tensorflow:From /usr/local/lib/python3.6/dist-packages/tensorflow/contrib/learn/python/learn/datasets/mnist.py:262: extract_images (from tensorflow.contrib.learn.python.learn.datasets.mnist) is deprecated and will be removed in a future version.\n",
            "Instructions for updating:\n",
            "Please use tf.data to implement this functionality.\n",
            "Extracting /tmp/data/train-images-idx3-ubyte.gz\n",
            "Successfully downloaded train-labels-idx1-ubyte.gz 28881 bytes.\n",
            "WARNING:tensorflow:From /usr/local/lib/python3.6/dist-packages/tensorflow/contrib/learn/python/learn/datasets/mnist.py:267: extract_labels (from tensorflow.contrib.learn.python.learn.datasets.mnist) is deprecated and will be removed in a future version.\n",
            "Instructions for updating:\n",
            "Please use tf.data to implement this functionality.\n",
            "Extracting /tmp/data/train-labels-idx1-ubyte.gz\n",
            "WARNING:tensorflow:From /usr/local/lib/python3.6/dist-packages/tensorflow/contrib/learn/python/learn/datasets/mnist.py:110: dense_to_one_hot (from tensorflow.contrib.learn.python.learn.datasets.mnist) is deprecated and will be removed in a future version.\n",
            "Instructions for updating:\n",
            "Please use tf.one_hot on tensors.\n",
            "Successfully downloaded t10k-images-idx3-ubyte.gz 1648877 bytes.\n",
            "Extracting /tmp/data/t10k-images-idx3-ubyte.gz\n",
            "Successfully downloaded t10k-labels-idx1-ubyte.gz 4542 bytes.\n",
            "Extracting /tmp/data/t10k-labels-idx1-ubyte.gz\n",
            "WARNING:tensorflow:From /usr/local/lib/python3.6/dist-packages/tensorflow/contrib/learn/python/learn/datasets/mnist.py:290: DataSet.__init__ (from tensorflow.contrib.learn.python.learn.datasets.mnist) is deprecated and will be removed in a future version.\n",
            "Instructions for updating:\n",
            "Please use alternatives such as official/mnist/dataset.py from tensorflow/models.\n"
          ],
          "name": "stdout"
        }
      ]
    },
    {
      "metadata": {
        "id": "z7ciO8hbYS7v",
        "colab_type": "code",
        "outputId": "835fb5dc-f32b-4b16-f73f-d8c27c961996",
        "colab": {
          "base_uri": "https://localhost:8080/",
          "height": 51
        }
      },
      "cell_type": "code",
      "source": [
        "print(\"Number of training examples: \", mnist.train.num_examples)\n",
        "print(\"Number of testing examples\", mnist.test.num_examples)"
      ],
      "execution_count": 19,
      "outputs": [
        {
          "output_type": "stream",
          "text": [
            "Number of training examples:  55000\n",
            "Number of testing examples 10000\n"
          ],
          "name": "stdout"
        }
      ]
    },
    {
      "metadata": {
        "id": "_ZPI6z_LpUyT",
        "colab_type": "code",
        "outputId": "310afa54-029f-4521-c614-4d9ae3e4626f",
        "colab": {
          "base_uri": "https://localhost:8080/",
          "height": 406
        }
      },
      "cell_type": "code",
      "source": [
        "#A way to look at data\n",
        "import matplotlib.pyplot as plt\n",
        "import numpy as np \n",
        "\n",
        "# Example of a picture - plot a sample digit picture\n",
        "index = 0                                                   # Define the index\n",
        "sample = mnist.train.images[index]\n",
        "sample_label = mnist.train.labels[index]\n",
        "plt.gray()                                                  # Initialize a gray figure\n",
        "plt.matshow(sample.reshape(28,28))                          # Display a sample digit - matshow displays an array as a matrix\n",
        "plt.show()                                                  # Show the plot\n",
        "print (\"label vector: \", sample_label)                      # display the one hot encoded corresponding label\n",
        "print (\"label value: \", np.argmax(sample_label, axis=0))    # display the digit(actual label of image)"
      ],
      "execution_count": 21,
      "outputs": [
        {
          "output_type": "display_data",
          "data": {
            "text/plain": [
              "<Figure size 576x396 with 0 Axes>"
            ]
          },
          "metadata": {
            "tags": []
          }
        },
        {
          "output_type": "display_data",
          "data": {
            "image/png": "[encoded data removed]",
            "text/plain": [
              "<Figure size 396x396 with 1 Axes>"
            ]
          },
          "metadata": {
            "tags": []
          }
        },
        {
          "output_type": "stream",
          "text": [
            "label vector:  [0. 0. 0. 0. 0. 0. 0. 1. 0. 0.]\n",
            "label value:  7\n"
          ],
          "name": "stdout"
        }
      ]
    },
    {
      "metadata": {
        "id": "I07US897YUtc",
        "colab_type": "code",
        "outputId": "ce1181b5-d271-4ccb-8630-48b0196bdf5e",
        "colab": {
          "base_uri": "https://localhost:8080/",
          "height": 406
        }
      },
      "cell_type": "code",
      "source": [
        "#Test data\n",
        "\n",
        "# Example of a picture - plot a sample digit picture\n",
        "index = 0                                                   # Define the index\n",
        "sample = mnist.test.images[index]\n",
        "sample_label = mnist.test.labels[index]\n",
        "plt.gray()                                                  # Initialize a gray figure\n",
        "plt.matshow(sample.reshape(28,28))                          # Display a sample digit - matshow displays an array as a matrix\n",
        "plt.show()                                                  # Show the plot\n",
        "print (\"label vector: \", sample_label)                      # display the one hot encoded corresponding label\n",
        "print (\"label value: \", np.argmax(sample_label, axis=0))    # display the digit(actual label of image)"
      ],
      "execution_count": 22,
      "outputs": [
        {
          "output_type": "display_data",
          "data": {
            "text/plain": [
              "<Figure size 576x396 with 0 Axes>"
            ]
          },
          "metadata": {
            "tags": []
          }
        },
        {
          "output_type": "display_data",
          "data": {
            "image/png": "[encoded data removed]",
            "text/plain": [
              "<Figure size 396x396 with 1 Axes>"
            ]
          },
          "metadata": {
            "tags": []
          }
        },
        {
          "output_type": "stream",
          "text": [
            "label vector:  [0. 0. 0. 0. 0. 0. 0. 1. 0. 0.]\n",
            "label value:  7\n"
          ],
          "name": "stdout"
        }
      ]
    },
    {
      "metadata": {
        "id": "1p-Kd-VWdRgM",
        "colab_type": "code",
        "outputId": "3d9f6592-4d6d-4de8-bd1b-67ae90822d71",
        "colab": {
          "base_uri": "https://localhost:8080/",
          "height": 406
        }
      },
      "cell_type": "code",
      "source": [
        "#Another way to look at data particularly batches \n",
        "\n",
        "# Example of a picture - plot a sample digit picture\n",
        "sample = mnist.train.next_batch(1)\n",
        "plt.gray()                                                  # Initialize a gray figure\n",
        "index = 0                                                   # Define the index\n",
        "plt.matshow(sample[0].reshape(28,28))                       # Display a sample digit - matshow displays an array as a matrix\n",
        "plt.show()                                                  # Show the plot\n",
        "print (\"label vector: \", sample[1])                         # display the one hot encoded corresponding label\n",
        "print (\"label value: \", np.argmax(sample[1][0], axis=0))    # display the digit(actual label of image)"
      ],
      "execution_count": 23,
      "outputs": [
        {
          "output_type": "display_data",
          "data": {
            "text/plain": [
              "<Figure size 576x396 with 0 Axes>"
            ]
          },
          "metadata": {
            "tags": []
          }
        },
        {
          "output_type": "display_data",
          "data": {
            "image/png": "[encoded data removed]",
            "text/plain": [
              "<Figure size 396x396 with 1 Axes>"
            ]
          },
          "metadata": {
            "tags": []
          }
        },
        {
          "output_type": "stream",
          "text": [
            "label vector:  [[0. 0. 1. 0. 0. 0. 0. 0. 0. 0.]]\n",
            "label value:  2\n"
          ],
          "name": "stdout"
        }
      ]
    },
    {
      "metadata": {
        "id": "tZ8u6o49UCuz",
        "colab_type": "text"
      },
      "cell_type": "markdown",
      "source": [
        "![alt text](https://docs.google.com/uc?export=download&id=1kS7uwLI96gynOkJpdItCqL1iIIptgdUF)"
      ]
    },
    {
      "metadata": {
        "id": "TIqeqsxCTSVi",
        "colab_type": "code",
        "colab": {}
      },
      "cell_type": "code",
      "source": [
        "# Parameters\n",
        "learning_rate = 0.01\n",
        "training_epochs = 25\n",
        "batch_size = 100\n",
        "display_step = 1"
      ],
      "execution_count": 0,
      "outputs": []
    },
    {
      "metadata": {
        "id": "-wDgLuqRUn7o",
        "colab_type": "code",
        "colab": {}
      },
      "cell_type": "code",
      "source": [
        "# tf Graph Input\n",
        "x = tf.placeholder(tf.float32, [None, 784]) # mnist data image of shape 28*28=784\n",
        "y = tf.placeholder(tf.float32, [None, 10]) # 0-9 digits recognition => 10 classes"
      ],
      "execution_count": 0,
      "outputs": []
    },
    {
      "metadata": {
        "id": "PtNzoRi_Urul",
        "colab_type": "code",
        "outputId": "ec8dca06-b333-4a41-c3e0-36a6d6307a01",
        "colab": {
          "base_uri": "https://localhost:8080/",
          "height": 88
        }
      },
      "cell_type": "code",
      "source": [
        "# Set model weights\n",
        "W = tf.Variable(tf.random_normal((784, 10)), name=\"W\")\n",
        "b = tf.Variable(tf.zeros([10]), name=\"b\")"
      ],
      "execution_count": 26,
      "outputs": [
        {
          "output_type": "stream",
          "text": [
            "WARNING:tensorflow:From /usr/local/lib/python3.6/dist-packages/tensorflow/python/framework/op_def_library.py:263: colocate_with (from tensorflow.python.framework.ops) is deprecated and will be removed in a future version.\n",
            "Instructions for updating:\n",
            "Colocations handled automatically by placer.\n"
          ],
          "name": "stdout"
        }
      ]
    },
    {
      "metadata": {
        "id": "z1fydkdULNH-",
        "colab_type": "code",
        "colab": {}
      },
      "cell_type": "code",
      "source": [
        "#logits\n",
        "logits = tf.matmul(x, W) + b"
      ],
      "execution_count": 0,
      "outputs": []
    },
    {
      "metadata": {
        "id": "WMZgH3sOUvw7",
        "colab_type": "code",
        "colab": {}
      },
      "cell_type": "code",
      "source": [
        "# Softmax\n",
        "pred = tf.nn.softmax(logits)"
      ],
      "execution_count": 0,
      "outputs": []
    },
    {
      "metadata": {
        "id": "zvqWMZIFU2IZ",
        "colab_type": "code",
        "colab": {}
      },
      "cell_type": "code",
      "source": [
        "# Minimize error using cross entropy\n",
        "cost = tf.reduce_mean(-tf.reduce_sum(y*tf.log(pred), reduction_indices=1))"
      ],
      "execution_count": 0,
      "outputs": []
    },
    {
      "metadata": {
        "id": "CiHSBey1U7DU",
        "colab_type": "code",
        "outputId": "efa0b60e-80f0-4054-fa7f-c9bfbf41aa5e",
        "colab": {
          "base_uri": "https://localhost:8080/",
          "height": 88
        }
      },
      "cell_type": "code",
      "source": [
        "# Gradient Descent\n",
        "optimizer = tf.train.GradientDescentOptimizer(learning_rate).minimize(cost)"
      ],
      "execution_count": 34,
      "outputs": [
        {
          "output_type": "stream",
          "text": [
            "WARNING:tensorflow:From /usr/local/lib/python3.6/dist-packages/tensorflow/python/ops/math_ops.py:3066: to_int32 (from tensorflow.python.ops.math_ops) is deprecated and will be removed in a future version.\n",
            "Instructions for updating:\n",
            "Use tf.cast instead.\n"
          ],
          "name": "stdout"
        }
      ]
    },
    {
      "metadata": {
        "id": "g6vA1Q09U_No",
        "colab_type": "code",
        "colab": {}
      },
      "cell_type": "code",
      "source": [
        "# Initialize the variables (i.e. assign their default value)\n",
        "init = tf.global_variables_initializer()"
      ],
      "execution_count": 0,
      "outputs": []
    },
    {
      "metadata": {
        "id": "4bzcZX00VUZc",
        "colab_type": "code",
        "colab": {
          "base_uri": "https://localhost:8080/",
          "height": 493
        },
        "outputId": "5c1f8e3e-0f33-49f6-e1c3-a5247f212758"
      },
      "cell_type": "code",
      "source": [
        "# Start training\n",
        "with tf.Session() as sess:\n",
        "\n",
        "    # Run the initializer\n",
        "    sess.run(init)\n",
        "\n",
        "    # Training cycle\n",
        "    for epoch in range(training_epochs):\n",
        "        avg_cost = 0.\n",
        "        total_batch = int(mnist.train.num_examples/batch_size)\n",
        "        # Loop over all batches\n",
        "        for i in range(total_batch):\n",
        "            batch_xs, batch_ys = mnist.train.next_batch(batch_size)\n",
        "            # Run optimization op (backprop) and cost op (to get loss value)\n",
        "            _, c = sess.run([optimizer, cost], feed_dict={x: batch_xs,\n",
        "                                                          y: batch_ys})\n",
        "            # Compute average loss\n",
        "            avg_cost += c / total_batch\n",
        "        # Display logs per epoch step\n",
        "        if (epoch+1) % display_step == 0:\n",
        "            print(\"Epoch:\", '%04d' % (epoch+1), \"cost=\", \"{:.9f}\".format(avg_cost))\n",
        "\n",
        "    print(\"Optimization Finished!\")\n",
        "\n",
        "    # Test model\n",
        "    correct_prediction = tf.equal(tf.argmax(pred, 1), tf.argmax(y, 1))\n",
        "    # Calculate accuracy\n",
        "    accuracy = tf.reduce_mean(tf.cast(correct_prediction, tf.float32))\n",
        "    print(\"Accuracy:\", accuracy.eval({x: mnist.test.images, y: mnist.test.labels}))\n",
        "    \n",
        "    single_pred = tf.argmax(pred, 1)\n",
        "    print(\"Prediction:\", single_pred.eval({x: [mnist.test.images[0]] , y: [mnist.test.labels[0]]}))"
      ],
      "execution_count": 38,
      "outputs": [
        {
          "output_type": "stream",
          "text": [
            "Epoch: 0001 cost= 9.544629245\n",
            "Epoch: 0002 cost= 4.728093558\n",
            "Epoch: 0003 cost= 3.188260416\n",
            "Epoch: 0004 cost= 2.506484444\n",
            "Epoch: 0005 cost= 2.126873945\n",
            "Epoch: 0006 cost= 1.883280209\n",
            "Epoch: 0007 cost= 1.710171776\n",
            "Epoch: 0008 cost= 1.580547175\n",
            "Epoch: 0009 cost= 1.478591946\n",
            "Epoch: 0010 cost= 1.395627772\n",
            "Epoch: 0011 cost= 1.326506106\n",
            "Epoch: 0012 cost= 1.267898576\n",
            "Epoch: 0013 cost= 1.217294704\n",
            "Epoch: 0014 cost= 1.173307299\n",
            "Epoch: 0015 cost= 1.134132472\n",
            "Epoch: 0016 cost= 1.099345019\n",
            "Epoch: 0017 cost= 1.068228604\n",
            "Epoch: 0018 cost= 1.039894777\n",
            "Epoch: 0019 cost= 1.014383006\n",
            "Epoch: 0020 cost= 0.991024606\n",
            "Epoch: 0021 cost= 0.969511730\n",
            "Epoch: 0022 cost= 0.949460702\n",
            "Epoch: 0023 cost= 0.931298790\n",
            "Epoch: 0024 cost= 0.913876286\n",
            "Epoch: 0025 cost= 0.898077025\n",
            "Optimization Finished!\n",
            "Accuracy: 0.8255\n",
            "Prediction: [7]\n"
          ],
          "name": "stdout"
        }
      ]
    },
    {
      "metadata": {
        "id": "Tca_IrN9XSVp",
        "colab_type": "text"
      },
      "cell_type": "markdown",
      "source": [
        "## Neural Network\n"
      ]
    },
    {
      "metadata": {
        "id": "8MQ3JgirWcux",
        "colab_type": "text"
      },
      "cell_type": "markdown",
      "source": [
        "![alt text](https://docs.google.com/uc?export=download&id=1NA2PL2rMPlLXkGS650O-C5TZDajn1pX-)"
      ]
    },
    {
      "metadata": {
        "id": "X-9qCeFHXeIW",
        "colab_type": "code",
        "outputId": "f7cb56cf-c2e8-4b16-ec9e-33a8b5e021d0",
        "colab": {
          "base_uri": "https://localhost:8080/",
          "height": 493
        }
      },
      "cell_type": "code",
      "source": [
        "tf.reset_default_graph()\n",
        "\n",
        "# Parameters\n",
        "learning_rate = 0.01\n",
        "training_epochs = 25\n",
        "batch_size = 100\n",
        "display_step = 1\n",
        "\n",
        "# tf Graph Input\n",
        "x = tf.placeholder(tf.float32, [None, 784]) # mnist data image of shape 28*28=784\n",
        "y = tf.placeholder(tf.float32, [None, 10]) # 0-9 digits recognition => 10 classes\n",
        "\n",
        "# Set model weights\n",
        "# W = tf.Variable(tf.zeros([784, 10]))\n",
        "W1 = tf.Variable(tf.random_normal((784, 128)), name=\"W1\")\n",
        "b1= tf.Variable(tf.zeros([128]), name=\"b1\")\n",
        "z1 = tf.nn.relu(tf.add(tf.matmul(x, W1), b1))\n",
        "\n",
        "W2 = tf.Variable(tf.random_normal((128, 10)), name=\"W2\")\n",
        "b2= tf.Variable(tf.zeros([10]), name=\"b2\")\n",
        "z2 = tf.add(tf.matmul(z1, W2), b2)\n",
        "\n",
        "#you can add another layer by uncommenting the following lines (remember to relace z2 with z3 for pred etc too then):\n",
        "# W2 = tf.Variable(tf.random_normal((128, 32)), name=\"W2\")\n",
        "# b2= tf.Variable(tf.zeros([32]), name=\"b2\")\n",
        "# z2 = tf.nn.relu(tf.add(tf.matmul(z1, W2), b2))\n",
        "\n",
        "# W3 = tf.Variable(tf.random_normal((32, 10)), name=\"W3\")\n",
        "# b3= tf.Variable(tf.zeros([10]), name=\"b3\")\n",
        "# z3 = tf.add(tf.matmul(z2, W3), b3)\n",
        "\n",
        "\n",
        "#------Construct model--------\n",
        "\n",
        "#calculate softmax and cross entropy\n",
        "pred = tf.nn.softmax_cross_entropy_with_logits(logits=z2, labels=y)\n",
        "\n",
        "# Define cost as mean error for the predicted values\n",
        "cost = tf.reduce_mean(pred)\n",
        "\n",
        "# Gradient Descent\n",
        "optimizer = tf.train.GradientDescentOptimizer(learning_rate).minimize(cost)\n",
        "\n",
        "# Initialize the variables (i.e. assign their default value)\n",
        "init = tf.global_variables_initializer()\n",
        "\n",
        "# Start training\n",
        "with tf.Session() as sess:\n",
        "\n",
        "    # Run the initializer\n",
        "    sess.run(init)\n",
        "\n",
        "    # Training cycle\n",
        "    for epoch in range(training_epochs):\n",
        "        avg_cost = 0.\n",
        "        total_batch = int(mnist.train.num_examples/batch_size)\n",
        "        # Loop over all batches\n",
        "        for i in range(total_batch):\n",
        "            batch_xs, batch_ys = mnist.train.next_batch(batch_size)\n",
        "            # Run optimization op (backprop) and cost op (to get loss value)\n",
        "            _, c = sess.run([optimizer, cost], feed_dict={x: batch_xs,\n",
        "                                                          y: batch_ys})\n",
        "            # Compute average loss\n",
        "            avg_cost += c / total_batch\n",
        "        # Display logs per epoch step\n",
        "        if (epoch+1) % display_step == 0:\n",
        "            print(\"Epoch:\", '%04d' % (epoch+1), \"cost=\", \"{:.9f}\".format(avg_cost))\n",
        "\n",
        "    print(\"Optimization Finished!\")\n",
        "\n",
        "    # Test model\n",
        "    correct_prediction = tf.equal(tf.argmax(z2, axis=-1), tf.argmax(y, axis=-1))\n",
        "    \n",
        "    # Calculate accuracy\n",
        "    accuracy = tf.reduce_mean(tf.cast(correct_prediction, tf.float32))\n",
        "    print(\"Accuracy:\", accuracy.eval({x: mnist.test.images , y: mnist.test.labels}))\n",
        "    \n",
        "    single_pred = tf.argmax(z2,axis=-1)\n",
        "    print(\"Prediction:\", single_pred.eval({x: mnist.test.images[0:1] , y: mnist.test.labels[0:1]}))\n",
        "  "
      ],
      "execution_count": 40,
      "outputs": [
        {
          "output_type": "stream",
          "text": [
            "Epoch: 0001 cost= 15.689580512\n",
            "Epoch: 0002 cost= 5.439291325\n",
            "Epoch: 0003 cost= 3.990620464\n",
            "Epoch: 0004 cost= 3.244490582\n",
            "Epoch: 0005 cost= 2.765024950\n",
            "Epoch: 0006 cost= 2.423242274\n",
            "Epoch: 0007 cost= 2.156936498\n",
            "Epoch: 0008 cost= 1.947304224\n",
            "Epoch: 0009 cost= 1.773296115\n",
            "Epoch: 0010 cost= 1.629427760\n",
            "Epoch: 0011 cost= 1.507307056\n",
            "Epoch: 0012 cost= 1.402755908\n",
            "Epoch: 0013 cost= 1.313982177\n",
            "Epoch: 0014 cost= 1.235004933\n",
            "Epoch: 0015 cost= 1.166432914\n",
            "Epoch: 0016 cost= 1.103037721\n",
            "Epoch: 0017 cost= 1.046538710\n",
            "Epoch: 0018 cost= 0.996338238\n",
            "Epoch: 0019 cost= 0.950695224\n",
            "Epoch: 0020 cost= 0.907344221\n",
            "Epoch: 0021 cost= 0.869180716\n",
            "Epoch: 0022 cost= 0.835512749\n",
            "Epoch: 0023 cost= 0.801114108\n",
            "Epoch: 0024 cost= 0.770675371\n",
            "Epoch: 0025 cost= 0.743164948\n",
            "Optimization Finished!\n",
            "Accuracy: 0.894\n",
            "Prediction: [7]\n"
          ],
          "name": "stdout"
        }
      ]
    }
  ]
}